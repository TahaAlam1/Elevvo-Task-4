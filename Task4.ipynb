{
 "cells": [
  {
   "cell_type": "code",
   "execution_count": 1,
   "id": "489452d0-576c-4867-af5a-4e269220c87f",
   "metadata": {},
   "outputs": [],
   "source": [
    "import numpy as np\n",
    "import pandas as pd\n",
    "import matplotlib.pyplot as plt\n",
    "import seaborn as sns\n",
    "from sklearn.metrics import classification_report,confusion_matrix\n",
    "from sklearn.preprocessing import StandardScaler\n",
    "from sklearn.model_selection import train_test_split\n",
    "from sklearn.linear_model import LogisticRegression\n",
    "from sklearn.tree import DecisionTreeClassifier\n",
    "from imblearn.over_sampling import SMOTE\n",
    "import warnings\n",
    "warnings.filterwarnings(\"ignore\")"
   ]
  },
  {
   "cell_type": "code",
   "execution_count": 2,
   "id": "b703cab2-34c1-4e90-a7c4-d6688056d7c4",
   "metadata": {},
   "outputs": [
    {
     "data": {
      "text/html": [
       "<div>\n",
       "<style scoped>\n",
       "    .dataframe tbody tr th:only-of-type {\n",
       "        vertical-align: middle;\n",
       "    }\n",
       "\n",
       "    .dataframe tbody tr th {\n",
       "        vertical-align: top;\n",
       "    }\n",
       "\n",
       "    .dataframe thead th {\n",
       "        text-align: right;\n",
       "    }\n",
       "</style>\n",
       "<table border=\"1\" class=\"dataframe\">\n",
       "  <thead>\n",
       "    <tr style=\"text-align: right;\">\n",
       "      <th></th>\n",
       "      <th>Loan_ID</th>\n",
       "      <th>Gender</th>\n",
       "      <th>Married</th>\n",
       "      <th>Dependents</th>\n",
       "      <th>Education</th>\n",
       "      <th>Self_Employed</th>\n",
       "      <th>ApplicantIncome</th>\n",
       "      <th>CoapplicantIncome</th>\n",
       "      <th>LoanAmount</th>\n",
       "      <th>Loan_Amount_Term</th>\n",
       "      <th>Credit_History</th>\n",
       "      <th>Property_Area</th>\n",
       "      <th>Loan_Status</th>\n",
       "    </tr>\n",
       "  </thead>\n",
       "  <tbody>\n",
       "    <tr>\n",
       "      <th>0</th>\n",
       "      <td>LP001002</td>\n",
       "      <td>Male</td>\n",
       "      <td>No</td>\n",
       "      <td>0</td>\n",
       "      <td>Graduate</td>\n",
       "      <td>No</td>\n",
       "      <td>5849</td>\n",
       "      <td>0.0</td>\n",
       "      <td>NaN</td>\n",
       "      <td>360.0</td>\n",
       "      <td>1.0</td>\n",
       "      <td>Urban</td>\n",
       "      <td>Y</td>\n",
       "    </tr>\n",
       "    <tr>\n",
       "      <th>1</th>\n",
       "      <td>LP001003</td>\n",
       "      <td>Male</td>\n",
       "      <td>Yes</td>\n",
       "      <td>1</td>\n",
       "      <td>Graduate</td>\n",
       "      <td>No</td>\n",
       "      <td>4583</td>\n",
       "      <td>1508.0</td>\n",
       "      <td>128.0</td>\n",
       "      <td>360.0</td>\n",
       "      <td>1.0</td>\n",
       "      <td>Rural</td>\n",
       "      <td>N</td>\n",
       "    </tr>\n",
       "    <tr>\n",
       "      <th>2</th>\n",
       "      <td>LP001005</td>\n",
       "      <td>Male</td>\n",
       "      <td>Yes</td>\n",
       "      <td>0</td>\n",
       "      <td>Graduate</td>\n",
       "      <td>Yes</td>\n",
       "      <td>3000</td>\n",
       "      <td>0.0</td>\n",
       "      <td>66.0</td>\n",
       "      <td>360.0</td>\n",
       "      <td>1.0</td>\n",
       "      <td>Urban</td>\n",
       "      <td>Y</td>\n",
       "    </tr>\n",
       "    <tr>\n",
       "      <th>3</th>\n",
       "      <td>LP001006</td>\n",
       "      <td>Male</td>\n",
       "      <td>Yes</td>\n",
       "      <td>0</td>\n",
       "      <td>Not Graduate</td>\n",
       "      <td>No</td>\n",
       "      <td>2583</td>\n",
       "      <td>2358.0</td>\n",
       "      <td>120.0</td>\n",
       "      <td>360.0</td>\n",
       "      <td>1.0</td>\n",
       "      <td>Urban</td>\n",
       "      <td>Y</td>\n",
       "    </tr>\n",
       "    <tr>\n",
       "      <th>4</th>\n",
       "      <td>LP001008</td>\n",
       "      <td>Male</td>\n",
       "      <td>No</td>\n",
       "      <td>0</td>\n",
       "      <td>Graduate</td>\n",
       "      <td>No</td>\n",
       "      <td>6000</td>\n",
       "      <td>0.0</td>\n",
       "      <td>141.0</td>\n",
       "      <td>360.0</td>\n",
       "      <td>1.0</td>\n",
       "      <td>Urban</td>\n",
       "      <td>Y</td>\n",
       "    </tr>\n",
       "  </tbody>\n",
       "</table>\n",
       "</div>"
      ],
      "text/plain": [
       "    Loan_ID Gender Married Dependents     Education Self_Employed  \\\n",
       "0  LP001002   Male      No          0      Graduate            No   \n",
       "1  LP001003   Male     Yes          1      Graduate            No   \n",
       "2  LP001005   Male     Yes          0      Graduate           Yes   \n",
       "3  LP001006   Male     Yes          0  Not Graduate            No   \n",
       "4  LP001008   Male      No          0      Graduate            No   \n",
       "\n",
       "   ApplicantIncome  CoapplicantIncome  LoanAmount  Loan_Amount_Term  \\\n",
       "0             5849                0.0         NaN             360.0   \n",
       "1             4583             1508.0       128.0             360.0   \n",
       "2             3000                0.0        66.0             360.0   \n",
       "3             2583             2358.0       120.0             360.0   \n",
       "4             6000                0.0       141.0             360.0   \n",
       "\n",
       "   Credit_History Property_Area Loan_Status  \n",
       "0             1.0         Urban           Y  \n",
       "1             1.0         Rural           N  \n",
       "2             1.0         Urban           Y  \n",
       "3             1.0         Urban           Y  \n",
       "4             1.0         Urban           Y  "
      ]
     },
     "execution_count": 2,
     "metadata": {},
     "output_type": "execute_result"
    }
   ],
   "source": [
    "df=pd.read_csv(r\"C:\\Users\\Taha Alam\\Downloads\\loan.csv\")\n",
    "df.head()"
   ]
  },
  {
   "cell_type": "code",
   "execution_count": 3,
   "id": "bd157371-4686-462a-bae0-387b1146159c",
   "metadata": {},
   "outputs": [],
   "source": [
    "df.columns=df.columns.str.strip().str.replace(\" \",\"_\").str.title()"
   ]
  },
  {
   "cell_type": "code",
   "execution_count": 4,
   "id": "dc34b344-c0d4-403d-bded-a69edadd5e42",
   "metadata": {},
   "outputs": [
    {
     "name": "stdout",
     "output_type": "stream",
     "text": [
      "(614, 13)\n",
      "Loan_Id               0\n",
      "Gender               13\n",
      "Married               3\n",
      "Dependents           15\n",
      "Education             0\n",
      "Self_Employed        32\n",
      "Applicantincome       0\n",
      "Coapplicantincome     0\n",
      "Loanamount           22\n",
      "Loan_Amount_Term     14\n",
      "Credit_History       50\n",
      "Property_Area         0\n",
      "Loan_Status           0\n",
      "dtype: int64\n",
      "0\n"
     ]
    },
    {
     "data": {
      "text/plain": [
       "Loan_Status\n",
       "Y    422\n",
       "N    192\n",
       "Name: count, dtype: int64"
      ]
     },
     "execution_count": 4,
     "metadata": {},
     "output_type": "execute_result"
    }
   ],
   "source": [
    "print(df.shape)\n",
    "print(df.isnull().sum())\n",
    "print(df.duplicated().sum())\n",
    "df['Loan_Status'].value_counts()"
   ]
  },
  {
   "cell_type": "code",
   "execution_count": 5,
   "id": "5d09f885-35a9-4850-8a14-cbcac4530569",
   "metadata": {},
   "outputs": [],
   "source": [
    "df.dropna(inplace=True)"
   ]
  },
  {
   "cell_type": "code",
   "execution_count": 6,
   "id": "7cc317d1-1f13-4ca8-b8fb-bddb069fb4a0",
   "metadata": {},
   "outputs": [],
   "source": [
    "df.drop('Loan_Id', axis=1, inplace=True)"
   ]
  },
  {
   "cell_type": "code",
   "execution_count": 7,
   "id": "0d8e4734-ea1f-40dc-9737-93c24ffcded9",
   "metadata": {},
   "outputs": [
    {
     "data": {
      "text/plain": [
       "Index(['Gender', 'Married', 'Dependents', 'Education', 'Self_Employed',\n",
       "       'Applicantincome', 'Coapplicantincome', 'Loanamount',\n",
       "       'Loan_Amount_Term', 'Credit_History', 'Property_Area', 'Loan_Status'],\n",
       "      dtype='object')"
      ]
     },
     "execution_count": 7,
     "metadata": {},
     "output_type": "execute_result"
    }
   ],
   "source": [
    "df.columns"
   ]
  },
  {
   "cell_type": "code",
   "execution_count": 8,
   "id": "120d49b2-60dd-4b3c-9f39-bd990608e6c2",
   "metadata": {},
   "outputs": [],
   "source": [
    "df['Loan_Status'] = df['Loan_Status'].map({'Y': 1, 'N': 0})"
   ]
  },
  {
   "cell_type": "code",
   "execution_count": 9,
   "id": "eeb42e26-26d2-42f4-9873-ff6666667d14",
   "metadata": {},
   "outputs": [],
   "source": [
    "categorical_cols=df.select_dtypes(include=['object', 'category']).columns.tolist()"
   ]
  },
  {
   "cell_type": "code",
   "execution_count": 10,
   "id": "0f4ffe43-066b-4d79-b754-c8798c3593c2",
   "metadata": {},
   "outputs": [
    {
     "name": "stdout",
     "output_type": "stream",
     "text": [
      "['Gender', 'Married', 'Dependents', 'Education', 'Self_Employed', 'Property_Area']\n"
     ]
    }
   ],
   "source": [
    "print(categorical_cols)"
   ]
  },
  {
   "cell_type": "code",
   "execution_count": 11,
   "id": "6f5ee37e-0dd1-44c8-955a-0aed91453a40",
   "metadata": {},
   "outputs": [],
   "source": [
    "df_encoded=pd.get_dummies(df,columns=categorical_cols,drop_first=True)"
   ]
  },
  {
   "cell_type": "code",
   "execution_count": 12,
   "id": "aa497063-631a-4831-ad68-f1fb69fd3d37",
   "metadata": {},
   "outputs": [
    {
     "name": "stdout",
     "output_type": "stream",
     "text": [
      "(480, 15)\n",
      "['Applicantincome', 'Coapplicantincome', 'Loanamount', 'Loan_Amount_Term', 'Credit_History', 'Loan_Status', 'Gender_Male', 'Married_Yes', 'Dependents_1', 'Dependents_2', 'Dependents_3+', 'Education_Not Graduate', 'Self_Employed_Yes', 'Property_Area_Semiurban', 'Property_Area_Urban']\n"
     ]
    }
   ],
   "source": [
    "print(df_encoded.shape)\n",
    "print(df_encoded.columns.tolist())"
   ]
  },
  {
   "cell_type": "code",
   "execution_count": 13,
   "id": "0d55705a-fdad-43d1-a695-43e7979a564c",
   "metadata": {},
   "outputs": [],
   "source": [
    "x = df_encoded.drop('Loan_Status', axis=1)\n",
    "y = df_encoded['Loan_Status']\n",
    "\n",
    "x_train,x_test,y_train,y_test=train_test_split(x,y,test_size=0.2,stratify=y,random_state=42,)\n",
    "\n",
    "scaler=StandardScaler()\n",
    "x_train_scaled=scaler.fit_transform(x_train)\n",
    "x_test_scaled=scaler.transform(x_test)"
   ]
  },
  {
   "cell_type": "code",
   "execution_count": 14,
   "id": "56188638-6117-4177-94c3-cbb6b4b2904c",
   "metadata": {},
   "outputs": [
    {
     "name": "stdout",
     "output_type": "stream",
     "text": [
      "(384, 14)\n",
      "(96, 14)\n",
      "Loan_Status\n",
      "1    69.270833\n",
      "0    30.729167\n",
      "Name: proportion, dtype: float64\n"
     ]
    }
   ],
   "source": [
    "print(x_train.shape)\n",
    "print(x_test.shape)\n",
    "print(y_train.value_counts(normalize=True)*100)"
   ]
  },
  {
   "cell_type": "code",
   "execution_count": 19,
   "id": "5f7c639d-fa71-4b30-b1ef-836118f575b7",
   "metadata": {},
   "outputs": [
    {
     "name": "stdout",
     "output_type": "stream",
     "text": [
      "[[17 13]\n",
      " [ 3 63]]\n",
      "              precision    recall  f1-score   support\n",
      "\n",
      "           0       0.85      0.57      0.68        30\n",
      "           1       0.83      0.95      0.89        66\n",
      "\n",
      "    accuracy                           0.83        96\n",
      "   macro avg       0.84      0.76      0.78        96\n",
      "weighted avg       0.84      0.83      0.82        96\n",
      "\n",
      "Training Accuracy: 81.77083333333334\n",
      "Test Accuracy: 83.33333333333334\n"
     ]
    }
   ],
   "source": [
    "logreg = LogisticRegression()\n",
    "logreg.fit(x_train_scaled, y_train)\n",
    "y_pred_logreg = logreg.predict(x_test_scaled)\n",
    "print(confusion_matrix(y_test, y_pred_logreg))\n",
    "print(classification_report(y_test, y_pred_logreg))\n",
    "print(\"Training Accuracy:\", logreg.score(x_train_scaled, y_train) * 100)\n",
    "print(\"Test Accuracy:\", logreg.score(x_test_scaled, y_test) * 100)\n"
   ]
  },
  {
   "cell_type": "code",
   "execution_count": 21,
   "id": "1082b18e-738e-432e-b503-67042c2fb299",
   "metadata": {},
   "outputs": [
    {
     "name": "stdout",
     "output_type": "stream",
     "text": [
      "[[30  0]\n",
      " [66  0]]\n",
      "              precision    recall  f1-score   support\n",
      "\n",
      "           0       0.31      1.00      0.48        30\n",
      "           1       0.00      0.00      0.00        66\n",
      "\n",
      "    accuracy                           0.31        96\n",
      "   macro avg       0.16      0.50      0.24        96\n",
      "weighted avg       0.10      0.31      0.15        96\n",
      "\n",
      "Training Accuracy 82.29166666666666\n",
      "Test Accuracy 80.20833333333334\n"
     ]
    }
   ],
   "source": [
    "dts=DecisionTreeClassifier(random_state=42,max_depth=5,min_samples_split=10,min_samples_leaf=5)\n",
    "dts.fit(x_train,y_train)\n",
    "y_pred_dts=dts.predict(x_test_scaled)\n",
    "print(confusion_matrix(y_test,y_pred_dts))\n",
    "print(classification_report(y_test,y_pred_dts))\n",
    "print(\"Training Accuracy\",dts.score(x_train,y_train) * 100)\n",
    "print(\"Test Accuracy\",dts.score(x_test,y_test) * 100)"
   ]
  },
  {
   "cell_type": "code",
   "execution_count": 22,
   "id": "a5d1bd97-08bd-474b-851c-580755915873",
   "metadata": {},
   "outputs": [
    {
     "name": "stdout",
     "output_type": "stream",
     "text": [
      "Loan_Status\n",
      "1    266\n",
      "0    266\n",
      "Name: count, dtype: int64\n"
     ]
    }
   ],
   "source": [
    "smote=SMOTE(random_state=42)\n",
    "x_train_smote,y_train_smote=smote.fit_resample(x_train_scaled,y_train)\n",
    "print(y_train_smote.value_counts())"
   ]
  },
  {
   "cell_type": "code",
   "execution_count": 24,
   "id": "7c5f9e21-69bc-482d-91af-58dd4801aa65",
   "metadata": {},
   "outputs": [
    {
     "name": "stdout",
     "output_type": "stream",
     "text": [
      "[[19 11]\n",
      " [13 53]]\n",
      "              precision    recall  f1-score   support\n",
      "\n",
      "           0       0.59      0.63      0.61        30\n",
      "           1       0.83      0.80      0.82        66\n",
      "\n",
      "    accuracy                           0.75        96\n",
      "   macro avg       0.71      0.72      0.71        96\n",
      "weighted avg       0.75      0.75      0.75        96\n",
      "\n",
      "Training Accuracy 54.427083333333336\n",
      "Test Accuracy 52.083333333333336\n"
     ]
    }
   ],
   "source": [
    "logreg_smote=LogisticRegression(random_state=42)\n",
    "logreg_smote.fit(x_train_smote,y_train_smote)\n",
    "y_pred_logreg_smote=logreg_smote.predict(x_test_scaled)\n",
    "print(confusion_matrix(y_test,y_pred_logreg_smote))\n",
    "print(classification_report(y_test,y_pred_logreg_smote))\n",
    "print(\"Training Accuracy\",logreg_smote.score(x_train,y_train) * 100)\n",
    "print(\"Test Accuracy\",logreg_smote.score(x_test,y_test) * 100)"
   ]
  },
  {
   "cell_type": "code",
   "execution_count": 26,
   "id": "5bc5efb9-0f4c-4516-b594-2f1ac427eac9",
   "metadata": {},
   "outputs": [
    {
     "name": "stdout",
     "output_type": "stream",
     "text": [
      "[[18 12]\n",
      " [12 54]]\n",
      "              precision    recall  f1-score   support\n",
      "\n",
      "           0       0.60      0.60      0.60        30\n",
      "           1       0.82      0.82      0.82        66\n",
      "\n",
      "    accuracy                           0.75        96\n",
      "   macro avg       0.71      0.71      0.71        96\n",
      "weighted avg       0.75      0.75      0.75        96\n",
      "\n",
      "Training Accuracy 79.42708333333334\n",
      "Test Accuracy 75.0\n"
     ]
    }
   ],
   "source": [
    "x_train_tree,y_train_tree=smote.fit_resample(x_train,y_train)\n",
    "dts_smote= DecisionTreeClassifier(random_state=42,max_depth=5,min_samples_split=10,min_samples_leaf=5)\n",
    "dts_smote.fit(x_train_tree,y_train_tree)\n",
    "y_pred_dts_smote=dts_smote.predict(x_test)\n",
    "print(confusion_matrix(y_test,y_pred_dts_smote))\n",
    "print(classification_report(y_test,y_pred_dts_smote))\n",
    "print(\"Training Accuracy\",dts_smote.score(x_train,y_train) * 100)\n",
    "print(\"Test Accuracy\",dts_smote.score(x_test,y_test) * 100)"
   ]
  },
  {
   "cell_type": "code",
   "execution_count": null,
   "id": "76a8d8af-4889-45af-9bc3-985b04f8ad9d",
   "metadata": {},
   "outputs": [],
   "source": []
  }
 ],
 "metadata": {
  "kernelspec": {
   "display_name": "Python 3 (ipykernel)",
   "language": "python",
   "name": "python3"
  },
  "language_info": {
   "codemirror_mode": {
    "name": "ipython",
    "version": 3
   },
   "file_extension": ".py",
   "mimetype": "text/x-python",
   "name": "python",
   "nbconvert_exporter": "python",
   "pygments_lexer": "ipython3",
   "version": "3.13.5"
  }
 },
 "nbformat": 4,
 "nbformat_minor": 5
}
